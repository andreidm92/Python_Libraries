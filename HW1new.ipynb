{
 "cells": [
  {
   "cell_type": "markdown",
   "metadata": {
    "colab": {},
    "colab_type": "code",
    "id": "ak8b3KV45kVW"
   },
   "source": [
    "### Домашнее задание №1"
   ]
  },
  {
   "cell_type": "code",
   "execution_count": 61,
   "metadata": {},
   "outputs": [],
   "source": [
    "import numpy as np\n",
    "import matplotlib.pyplot as plt"
   ]
  },
  {
   "cell_type": "code",
   "execution_count": 52,
   "metadata": {
    "colab": {},
    "colab_type": "code",
    "id": "VsNrKi1Q6Wmh"
   },
   "outputs": [],
   "source": [
    "y = [45, 55, 50, 59, 65, 35, 75, 80, 50, 60]"
   ]
  },
  {
   "cell_type": "code",
   "execution_count": 53,
   "metadata": {
    "colab": {},
    "colab_type": "code",
    "id": "i77tZbAd5plB"
   },
   "outputs": [
    {
     "data": {
      "text/plain": [
       "(2, 10)"
      ]
     },
     "execution_count": 53,
     "metadata": {},
     "output_type": "execute_result"
    }
   ],
   "source": [
    "# y = k*x + b\n",
    "# y = k_1*x_1 + k_2*x_2 + ... + b\n",
    "\n",
    "X = np.array([[1, 1, 1, 1, 1, 1, 1, 1, 1, 1],\n",
    "              [1, 1, 2, 1, 3, 0, 5, 10, 1, 2]])\n",
    "X.shape"
   ]
  },
  {
   "cell_type": "markdown",
   "metadata": {
    "colab_type": "text",
    "id": "JAOgIXLRa--g"
   },
   "source": [
    "Градиентный спуск"
   ]
  },
  {
   "cell_type": "code",
   "execution_count": 54,
   "metadata": {
    "colab": {},
    "colab_type": "code",
    "id": "m4knIDey0s5q"
   },
   "outputs": [
    {
     "ename": "SyntaxError",
     "evalue": "only single target (not tuple) can be annotated (<ipython-input-54-27c2e2331068>, line 9)",
     "output_type": "error",
     "traceback": [
      "\u001b[1;36m  File \u001b[1;32m\"<ipython-input-54-27c2e2331068>\"\u001b[1;36m, line \u001b[1;32m9\u001b[0m\n\u001b[1;33m    w_1, w_2, ..., w_k: 2*x*(w*x - y)\u001b[0m\n\u001b[1;37m    ^\u001b[0m\n\u001b[1;31mSyntaxError\u001b[0m\u001b[1;31m:\u001b[0m only single target (not tuple) can be annotated\n"
     ]
    }
   ],
   "source": [
    "np.mean(y_pred - y)**2\n",
    "np.mean(w*x - y)**2\n",
    "np.sum(w*x - y)**2 / n\n",
    "1/n * np.sum((w*x - y)**2)\n",
    "(w*x - y)**2\n",
    "\n",
    "\n",
    "\n",
    "w_1, w_2, ..., w_k: 2*x*(w*x - y)\n",
    "w_0: 2*(w - y)"
   ]
  },
  {
   "cell_type": "code",
   "execution_count": 55,
   "metadata": {
    "colab": {},
    "colab_type": "code",
    "id": "DNebwUP7Fd8F"
   },
   "outputs": [],
   "source": [
    "n = 10\n",
    "f = 1/n * np.sum((W[0] * X[0] - y)**2)"
   ]
  },
  {
   "cell_type": "code",
   "execution_count": 56,
   "metadata": {
    "colab": {},
    "colab_type": "code",
    "id": "5DKkvmkwHdOx"
   },
   "outputs": [],
   "source": [
    "alpha = 1e-8\n",
    "g = alpha * (1/n * 2 * np.sum(X[0] * (W[0] * X[0] - y)))"
   ]
  },
  {
   "cell_type": "code",
   "execution_count": 57,
   "metadata": {
    "colab": {
     "base_uri": "https://localhost:8080/",
     "height": 34
    },
    "colab_type": "code",
    "id": "ZVRCF5P2MYI6",
    "outputId": "0b0e2f05-a23c-4bf8-f37d-b4240d2e0af0"
   },
   "outputs": [
    {
     "data": {
      "text/plain": [
       "47.232140996848884"
      ]
     },
     "execution_count": 57,
     "metadata": {},
     "output_type": "execute_result"
    }
   ],
   "source": [
    "W[0] - g"
   ]
  },
  {
   "cell_type": "markdown",
   "metadata": {
    "colab_type": "text",
    "id": "huXrhXQsZTMt"
   },
   "source": [
    "### Задание 1. Подберите скорость обучения (alpha) и количество итераций:"
   ]
  },
  {
   "cell_type": "code",
   "execution_count": 58,
   "metadata": {
    "colab": {
     "base_uri": "https://localhost:8080/",
     "height": 34
    },
    "colab_type": "code",
    "id": "VEXjDozNHdAo",
    "outputId": "7d12bb79-21b7-43fb-fd8e-d116a2af3bb7"
   },
   "outputs": [
    {
     "data": {
      "text/plain": [
       "(array([1. , 0.5]), 0.06)"
      ]
     },
     "execution_count": 58,
     "metadata": {},
     "output_type": "execute_result"
    }
   ],
   "source": [
    "n = X.shape[1]\n",
    "alpha = 6e-2\n",
    "W = np.array([1, 0.5])\n",
    "W, alpha"
   ]
  },
  {
   "cell_type": "code",
   "execution_count": 59,
   "metadata": {
    "colab": {
     "base_uri": "https://localhost:8080/",
     "height": 185
    },
    "colab_type": "code",
    "id": "IDB22MQKMYaJ",
    "outputId": "4c03219e-a57c-4583-f439-6699fd0619bb"
   },
   "outputs": [
    {
     "name": "stdout",
     "output_type": "stream",
     "text": [
      "0 [7.612 0.5  ] 3173.15\n",
      "0 [ 7.612 20.9  ] 3173.15\n",
      "10 [25.72983979  6.78864705] 364.6834436471203\n",
      "10 [25.72983979  9.05170097] 364.6834436471203\n",
      "20 [35.85695572  5.9868213 ] 125.86627725452965\n",
      "20 [35.85695572  6.15284752] 125.86627725452965\n",
      "30 [41.24888118  5.06921967] 67.8592661647404\n",
      "30 [41.24888118  5.03270471] 67.8592661647404\n",
      "40 [44.0891315   4.52730918] 51.980145468359524\n",
      "40 [44.0891315   4.49316871] 51.980145468359524\n",
      "50 [45.5816168  4.2354853] 47.60357573538611\n",
      "50 [45.5816168   4.21574742] 47.60357573538611\n",
      "60 [46.3654434   4.08137069] 46.39687623882493\n",
      "60 [46.3654434   4.07078732] 46.39687623882493\n",
      "70 [46.77704197  4.00033959] 46.06416092142592\n",
      "70 [46.77704197  3.99475582] 46.06416092142592\n",
      "80 [46.99317184  3.95777777] 45.972423420722386\n",
      "80 [46.99317184  3.95484256] 45.972423420722386\n",
      "90 [47.10666058  3.93542725] 45.9471292155766\n",
      "90 [47.10666058  3.9338856 ] 45.9471292155766\n",
      "100 [47.16625286  3.92369094] 45.94015500316733\n",
      "100 [47.16625286  3.92288138] 45.94015500316733\n",
      "110 [47.19754441  3.91752825] 45.93823204735757\n",
      "110 [47.19754441  3.91710315] 45.93823204735757\n",
      "120 [47.21397542  3.91429226] 45.93770184282277\n",
      "120 [47.21397542  3.91406904] 45.93770184282277\n",
      "130 [47.22260325  3.91259306] 45.93755565285454\n",
      "130 [47.22260325  3.91247585] 45.93755565285454\n"
     ]
    }
   ],
   "source": [
    "for i in range(131):\n",
    "    y_pred = np.dot(W, X)\n",
    "    err = calc_mse(y, y_pred)\n",
    "    for ii in range(W.shape[0]):\n",
    "        W[ii] -= alpha * (1/n * 2 * np.sum(X[ii] * (y_pred - y)))\n",
    "        if i % 10 == 0:\n",
    "            print(i, W, err)"
   ]
  },
  {
   "cell_type": "markdown",
   "metadata": {
    "colab_type": "text",
    "id": "5Qu1o4JhZYwI"
   },
   "source": [
    "### *Задание 2. В этом коде мы избавляемся от итераций по весам, но тут есть ошибка, исправьте ее:"
   ]
  },
  {
   "cell_type": "code",
   "execution_count": 62,
   "metadata": {},
   "outputs": [
    {
     "data": {
      "text/plain": [
       "(array([1. , 0.5]), 0.06)"
      ]
     },
     "execution_count": 62,
     "metadata": {},
     "output_type": "execute_result"
    }
   ],
   "source": [
    "n = X.shape[1]\n",
    "alpha = 6e-2\n",
    "W = np.array([1, 0.5])\n",
    "W, alpha"
   ]
  },
  {
   "cell_type": "code",
   "execution_count": 63,
   "metadata": {
    "colab": {
     "base_uri": "https://localhost:8080/",
     "height": 185
    },
    "colab_type": "code",
    "id": "WZZzDCQLY4pA",
    "outputId": "28f58ade-72f2-4381-809d-2417752d56e4"
   },
   "outputs": [
    {
     "name": "stdout",
     "output_type": "stream",
     "text": [
      "0 [ 7.612 20.9  ] 3173.15\n",
      "10 [25.72983979  9.05170097] 364.6834436471203\n",
      "20 [35.85695572  6.15284752] 125.86627725452965\n",
      "30 [41.24888118  5.03270471] 67.8592661647404\n",
      "40 [44.0891315   4.49316871] 51.980145468359524\n",
      "50 [45.5816168   4.21574742] 47.60357573538611\n",
      "60 [46.3654434   4.07078732] 46.39687623882493\n",
      "70 [46.77704197  3.99475582] 46.06416092142592\n",
      "80 [46.99317184  3.95484256] 45.972423420722386\n",
      "90 [47.10666058  3.9338856 ] 45.9471292155766\n",
      "100 [47.16625286  3.92288138] 45.94015500316733\n",
      "110 [47.19754441  3.91710315] 45.93823204735757\n",
      "120 [47.21397542  3.91406904] 45.93770184282277\n",
      "130 [47.22260325  3.91247585] 45.93755565285454\n"
     ]
    }
   ],
   "source": [
    "for i in range(131):\n",
    "    y_pred = np.dot(W, X)\n",
    "    err = calc_mse(y, y_pred)\n",
    "    '''for ii in range(W.shape[0]):\n",
    "    W[ii] -= alpha * (1/n * 2 * np.sum(X[ii] * (y_pred - y)))'''\n",
    "    W[0] -= alpha * (1/n * 2 * np.sum(X[0] * (y_pred - y)))\n",
    "    W[1] -= alpha * (1/n * 2 * np.sum(X[1] * (y_pred - y)))\n",
    "    if i % 10 == 0:\n",
    "        print(i, W, err)"
   ]
  },
  {
   "cell_type": "code",
   "execution_count": null,
   "metadata": {
    "colab": {},
    "colab_type": "code",
    "id": "kGLyytFgHdco"
   },
   "outputs": [],
   "source": []
  }
 ],
 "metadata": {
  "colab": {
   "collapsed_sections": [],
   "name": "Lesson1.ipynb",
   "provenance": []
  },
  "kernelspec": {
   "display_name": "Python 3",
   "language": "python",
   "name": "python3"
  },
  "language_info": {
   "codemirror_mode": {
    "name": "ipython",
    "version": 3
   },
   "file_extension": ".py",
   "mimetype": "text/x-python",
   "name": "python",
   "nbconvert_exporter": "python",
   "pygments_lexer": "ipython3",
   "version": "3.8.3"
  }
 },
 "nbformat": 4,
 "nbformat_minor": 1
}
